{
  "nbformat": 4,
  "nbformat_minor": 0,
  "metadata": {
    "colab": {
      "provenance": [],
      "authorship_tag": "ABX9TyNxSIpBQmBQNoHaI1kOsnb8",
      "include_colab_link": true
    },
    "kernelspec": {
      "name": "python3",
      "display_name": "Python 3"
    },
    "language_info": {
      "name": "python"
    }
  },
  "cells": [
    {
      "cell_type": "markdown",
      "metadata": {
        "id": "view-in-github",
        "colab_type": "text"
      },
      "source": [
        "<a href=\"https://colab.research.google.com/github/sarang1032/Mental_Fitness_Tracker/blob/main/IBMSB_AI.ipynb\" target=\"_parent\"><img src=\"https://colab.research.google.com/assets/colab-badge.svg\" alt=\"Open In Colab\"/></a>"
      ]
    },
    {
      "cell_type": "code",
      "execution_count": null,
      "metadata": {
        "id": "0rH51_hA26le"
      },
      "outputs": [],
      "source": [
        "import warnings\n",
        "warnings.filterwarnings(\"ignore\")"
      ]
    },
    {
      "cell_type": "code",
      "source": [
        "import numpy as np\n",
        "import pandas as pd"
      ],
      "metadata": {
        "id": "m4xSk5v44uc2"
      },
      "execution_count": null,
      "outputs": []
    },
    {
      "cell_type": "code",
      "source": [
        "from google.colab import drive\n",
        "drive.mount('/content/drive')"
      ],
      "metadata": {
        "id": "L1HjFH4jBA4U"
      },
      "execution_count": null,
      "outputs": []
    },
    {
      "cell_type": "code",
      "source": [
        "import seaborn as sns\n",
        "import matplotlib.pyplot as plt\n",
        "import plotly.express as px"
      ],
      "metadata": {
        "id": "AzVzm4GnAswF"
      },
      "execution_count": null,
      "outputs": []
    },
    {
      "cell_type": "code",
      "source": [
        "df1=pd.read_csv('/content/drive/MyDrive/IBM_SB_AI_Internship/mental-and-substance-use-as-share-of-disease -AI.csv')\n",
        "df2=pd.read_csv('/content/drive/MyDrive/IBM_SB_AI_Internship/prevalence-by-mental-and-substance-use-disorder _AI.csv')"
      ],
      "metadata": {
        "id": "xi67IQXgBYne"
      },
      "execution_count": null,
      "outputs": []
    },
    {
      "cell_type": "code",
      "source": [
        "df1.head()"
      ],
      "metadata": {
        "id": "W9oy9OTHCf7s"
      },
      "execution_count": null,
      "outputs": []
    },
    {
      "cell_type": "code",
      "source": [
        "df2.head()"
      ],
      "metadata": {
        "id": "cHi7YA2ZDAKS"
      },
      "execution_count": null,
      "outputs": []
    },
    {
      "cell_type": "code",
      "source": [
        "data=pd.merge(df1,df2)\n",
        "data.head()"
      ],
      "metadata": {
        "id": "MhoOoPkUDZuH"
      },
      "execution_count": null,
      "outputs": []
    },
    {
      "cell_type": "code",
      "source": [
        "data.isnull().sum()"
      ],
      "metadata": {
        "id": "NDeakE-iEAXY"
      },
      "execution_count": null,
      "outputs": []
    },
    {
      "cell_type": "code",
      "source": [
        "data.drop('Code',axis=1,inplace=True)"
      ],
      "metadata": {
        "id": "J9wtzuvPEe-b"
      },
      "execution_count": null,
      "outputs": []
    },
    {
      "cell_type": "code",
      "source": [
        "data.head()"
      ],
      "metadata": {
        "id": "sqKi4IpuE2qf"
      },
      "execution_count": null,
      "outputs": []
    },
    {
      "cell_type": "code",
      "source": [
        "data.size,data.shape"
      ],
      "metadata": {
        "id": "t-IhsgK0Kl4l"
      },
      "execution_count": null,
      "outputs": []
    },
    {
      "cell_type": "code",
      "source": [
        "data.set_axis(['Country','Year','mental_fitness','Schizophrenia','Bipolar_disorder','Eating_disorder','Anxiety_disorder','Drug_usage','depression','alcohol'],axis='columns',inplace=True)"
      ],
      "metadata": {
        "id": "S1B8ea-2Kzj6"
      },
      "execution_count": null,
      "outputs": []
    },
    {
      "cell_type": "code",
      "source": [
        "data.head()"
      ],
      "metadata": {
        "id": "Pvf14YAhL33h"
      },
      "execution_count": null,
      "outputs": []
    },
    {
      "cell_type": "code",
      "source": [
        "plt.figure(figsize=(12,6))  #figsize=(graph_width,graph_height)\n",
        "hx=sns.heatmap(data.corr(),annot=True,cmap='Blues')\n",
        "# hx.set(xlabel=\"\",ylabel=\"\")\n",
        "# hx.yaxis.tick_right()\n",
        "plt.plot()"
      ],
      "metadata": {
        "id": "nKBoUKHBMRxL"
      },
      "execution_count": null,
      "outputs": []
    },
    {
      "cell_type": "code",
      "source": [
        "# sns.pairplot(data,corner=True)\n",
        "# plt.show()"
      ],
      "metadata": {
        "id": "e6rUnCjhO1Ap"
      },
      "execution_count": null,
      "outputs": []
    },
    {
      "cell_type": "code",
      "source": [
        "mean=data['mental_fitness'].mean()\n",
        "mean"
      ],
      "metadata": {
        "id": "7-8cE4VAP-no"
      },
      "execution_count": null,
      "outputs": []
    },
    {
      "cell_type": "code",
      "source": [
        "fig=px.pie(data,values='mental_fitness',names='Year')\n",
        "fig.show()"
      ],
      "metadata": {
        "id": "4n5xR2g5Qj79"
      },
      "execution_count": null,
      "outputs": []
    },
    {
      "cell_type": "code",
      "source": [
        "fig=px.line(data,x='Year',y='mental_fitness',color='Country',markers=True,color_discrete_sequence=['red','blue'],template='plotly_dark')\n",
        "fig.show()"
      ],
      "metadata": {
        "id": "xA2PWV9zQ8Lz"
      },
      "execution_count": null,
      "outputs": []
    },
    {
      "cell_type": "code",
      "source": [
        "data.head(10)"
      ],
      "metadata": {
        "id": "c_T2IgHWuZHt"
      },
      "execution_count": null,
      "outputs": []
    },
    {
      "cell_type": "code",
      "source": [
        "df=data\n",
        "df.head(10)"
      ],
      "metadata": {
        "id": "MJ2xFjfwx3bN"
      },
      "execution_count": null,
      "outputs": []
    },
    {
      "cell_type": "code",
      "source": [
        "df.info()"
      ],
      "metadata": {
        "id": "f15y1Uaeur2N"
      },
      "execution_count": null,
      "outputs": []
    },
    {
      "cell_type": "code",
      "source": [
        "df.shape"
      ],
      "metadata": {
        "id": "S21CRJlGywY7"
      },
      "execution_count": null,
      "outputs": []
    },
    {
      "cell_type": "code",
      "source": [
        "from sklearn.preprocessing import LabelEncoder\n",
        "l=LabelEncoder()\n",
        "for i in df.columns:\n",
        "  if df[i].dtype=='object':\n",
        "    df[i]=l.fit_transform(df[i])"
      ],
      "metadata": {
        "id": "r1oFINQtyE-d"
      },
      "execution_count": null,
      "outputs": []
    },
    {
      "cell_type": "code",
      "source": [
        "x=df.drop('mental_fitness',axis=1)\n",
        "y=df['mental_fitness']"
      ],
      "metadata": {
        "id": "-ymn4oJoz-dd"
      },
      "execution_count": null,
      "outputs": []
    },
    {
      "cell_type": "code",
      "source": [
        "from sklearn.model_selection import train_test_split\n",
        "xtrain,xtest,ytrain,ytest=train_test_split(x,y,test_size=.20,random_state=2)"
      ],
      "metadata": {
        "id": "8ILmhiykbFEz"
      },
      "execution_count": null,
      "outputs": []
    },
    {
      "cell_type": "code",
      "source": [
        "print('xtrain:',xtrain.shape)\n",
        "print('xtest:',xtest.shape)\n",
        "print('ytrain:',ytrain.shape)\n",
        "print('ytest:',ytest.shape)"
      ],
      "metadata": {
        "id": "dSjwh98NXgeB"
      },
      "execution_count": null,
      "outputs": []
    },
    {
      "cell_type": "code",
      "source": [
        "from sklearn.linear_model import LinearRegression\n",
        "from sklearn.metrics import mean_squared_error,r2_score"
      ],
      "metadata": {
        "id": "UYom9CZqaJZV"
      },
      "execution_count": null,
      "outputs": []
    },
    {
      "cell_type": "code",
      "source": [
        "lr=LinearRegression()\n",
        "lr.fit(xtrain,ytrain)"
      ],
      "metadata": {
        "id": "KNCCOT-VbKxL"
      },
      "execution_count": null,
      "outputs": []
    },
    {
      "cell_type": "code",
      "source": [
        "ytrain_pred=lr.predict(xtrain)\n",
        "mse=mean_squared_error(ytrain,ytrain_pred)\n",
        "rmse=np.sqrt(mean_squared_error(ytrain,ytrain_pred))\n",
        "r2=r2_score(ytrain,ytrain_pred)"
      ],
      "metadata": {
        "id": "848esLSabi5p"
      },
      "execution_count": null,
      "outputs": []
    },
    {
      "cell_type": "code",
      "source": [
        "print(\"Linear Regression model for training set\")\n",
        "print(\"---------------------------------------\")\n",
        "print(\"MSE is {}\".format(mse))\n",
        "print(\"RMSE is {}\".format(rmse))\n",
        "print(\"r2 score is {}\".format(r2))"
      ],
      "metadata": {
        "id": "kjF5NM0WcKHW"
      },
      "execution_count": null,
      "outputs": []
    },
    {
      "cell_type": "code",
      "source": [
        "ytestpred=lr.predict(xtest)\n",
        "mse=mean_squared_error(ytest,ytestpred)\n",
        "rsme=np.sqrt(mean_squared_error(ytest,ytestpred))\n",
        "r2=r2_score(ytest,ytestpred)"
      ],
      "metadata": {
        "id": "J5BFVi9197AZ"
      },
      "execution_count": null,
      "outputs": []
    },
    {
      "cell_type": "code",
      "source": [
        "print(\"Testing set linear Regression model\")\n",
        "print(\"------------------------------------\")\n",
        "print(mse)\n",
        "print(rmse)\n",
        "print(r2)"
      ],
      "metadata": {
        "id": "5mE3g_By98i_"
      },
      "execution_count": null,
      "outputs": []
    }
  ]
}